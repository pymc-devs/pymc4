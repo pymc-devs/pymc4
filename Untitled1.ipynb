{
 "cells": [
  {
   "cell_type": "code",
   "execution_count": 5,
   "metadata": {},
   "outputs": [],
   "source": [
    "from pprint import pprint\n",
    "import matplotlib.pyplot as plt\n",
    "import numpy as np\n",
    "import seaborn as sns\n",
    "import pandas as pd\n",
    "import arviz as az\n",
    "\n",
    "import tensorflow.compat.v1 as tf1\n",
    "import tensorflow.compat.v2 as tf\n",
    "\n",
    "import tensorflow_probability as tfp\n",
    "from tensorflow_probability.python.internal import prefer_static as ps\n",
    "from tensorflow_probability.python.mcmc.internal import util as mcmc_util\n",
    "from tensorflow_probability.python.mcmc.transformed_kernel import (\n",
    "    make_transform_fn, make_transformed_log_prob)\n",
    "\n",
    "from tensorflow_probability.python.experimental.mcmc.sample_sequential_monte_carlo import make_rwmh_kernel_fn\n",
    "\n",
    "\n",
    "tfd = tfp.distributions\n",
    "tfb = tfp.bijectors"
   ]
  },
  {
   "cell_type": "code",
   "execution_count": 2,
   "metadata": {},
   "outputs": [],
   "source": [
    "sample_sequential_monte_carlo_chain = tfp.experimental.mcmc.sample_sequential_monte_carlo"
   ]
  },
  {
   "cell_type": "code",
   "execution_count": 3,
   "metadata": {},
   "outputs": [],
   "source": [
    "tfp.experimental.mcmc.sample_sequential_monte_carlo.__globals__['PRINT_DEBUG'] = True"
   ]
  },
  {
   "cell_type": "code",
   "execution_count": 6,
   "metadata": {},
   "outputs": [],
   "source": [
    "n = 4\n",
    "mu = np.ones(n) * (1. / 2)\n",
    "w = 0.1\n",
    "\n",
    "prior_dist = tfd.Sample(tfd.Normal(0., 10.), sample_shape=n)\n",
    "\n",
    "likelihood_dist = tfd.MixtureSameFamily(\n",
    "    mixture_distribution=tfd.Categorical(\n",
    "        probs=[w, 1.-w]),\n",
    "    components_distribution=tfd.MultivariateNormalDiag(\n",
    "        loc=np.asarray([mu, -mu]).astype(np.float32),\n",
    "        scale_identity_multiplier=[.1, .2]))"
   ]
  },
  {
   "cell_type": "code",
   "execution_count": 11,
   "metadata": {},
   "outputs": [
    {
     "name": "stdout",
     "output_type": "stream",
     "text": [
      "Stage: 0 Beta: 0.000503540039 n_steps: 50 accept: 1 scaling: 1\n",
      "Stage: 1 Beta: 0.00163240614 n_steps: 50 accept: 0.372665733 scaling: 1\n",
      "Stage: 2 Beta: 0.00419379026 n_steps: 10 accept: 0.359731436 scaling: 1.14412129\n",
      "Stage: 3 Beta: 0.0102845058 n_steps: 10 accept: 0.339176238 scaling: 1.30476713\n",
      "Stage: 4 Beta: 0.0229145363 n_steps: 10 accept: 0.257505119 scaling: 1.46746349\n",
      "Stage: 5 Beta: 0.0504276827 n_steps: 15 accept: 0.2484193 scaling: 1.52863991\n",
      "Stage: 6 Beta: 0.10183242 n_steps: 17 accept: 0.230439976 scaling: 1.53112829\n",
      "Stage: 7 Beta: 0.264956176 n_steps: 18 accept: 0.234595835 scaling: 1.50752687\n",
      "Stage: 8 Beta: 0.529279232 n_steps: 18 accept: 0.180388108 scaling: 1.49931788\n",
      "Stage: 9 Beta: 1 n_steps: 21 accept: 0.207645535 scaling: 1.4485755\n"
     ]
    }
   ],
   "source": [
    "@tf.function()\n",
    "def run_smc():\n",
    "  n_stage, final_state, final_kernel_results = sample_sequential_monte_carlo_chain(\n",
    "    prior_dist.log_prob,\n",
    "    likelihood_dist.log_prob,\n",
    "    prior_dist.sample(100),\n",
    "    make_kernel_fn=make_rwmh_kernel_fn,\n",
    "    max_num_steps=50,\n",
    "    )\n",
    "  return n_stage, final_state, final_kernel_results\n",
    "\n",
    "n_stage, final_state, final_kernel_results = run_smc()"
   ]
  },
  {
   "cell_type": "code",
   "execution_count": 12,
   "metadata": {},
   "outputs": [
    {
     "data": {
      "image/png": "[encoded data removed]",
      "text/plain": [
       "<Figure size 576x216 with 1 Axes>"
      ]
     },
     "metadata": {
      "needs_background": "light"
     },
     "output_type": "display_data"
    }
   ],
   "source": [
    "plt.figure(figsize=(8, 3))\n",
    "plt.hist(np.ravel(final_state),\n",
    "         bins=100, density=True, histtype='step', lw=2, label='SMC')\n",
    "plt.hist(np.ravel(likelihood_dist.sample(2000)),\n",
    "         bins=100, density=True, histtype='step', lw=2, label='Latent Truth')\n",
    "plt.legend();"
   ]
  },
  {
   "cell_type": "code",
   "execution_count": 13,
   "metadata": {},
   "outputs": [
    {
     "data": {
      "text/plain": [
       "TensorShape([100, 4])"
      ]
     },
     "execution_count": 13,
     "metadata": {},
     "output_type": "execute_result"
    }
   ],
   "source": []
  },
  {
   "cell_type": "code",
   "execution_count": 14,
   "metadata": {},
   "outputs": [],
   "source": [
    "import pymc3 as pm"
   ]
  },
  {
   "cell_type": "code",
   "execution_count": 15,
   "metadata": {},
   "outputs": [],
   "source": [
    "pm.sample_smc?"
   ]
  },
  {
   "cell_type": "code",
   "execution_count": null,
   "metadata": {},
   "outputs": [],
   "source": []
  }
 ],
 "metadata": {
  "kernelspec": {
   "display_name": "Python 3",
   "language": "python",
   "name": "python3"
  },
  "language_info": {
   "codemirror_mode": {
    "name": "ipython",
    "version": 3
   },
   "file_extension": ".py",
   "mimetype": "text/x-python",
   "name": "python",
   "nbconvert_exporter": "python",
   "pygments_lexer": "ipython3",
   "version": "3.7.3"
  },
  "varInspector": {
   "cols": {
    "lenName": 16,
    "lenType": 16,
    "lenVar": 40
   },
   "kernels_config": {
    "python": {
     "delete_cmd_postfix": "",
     "delete_cmd_prefix": "del ",
     "library": "var_list.py",
     "varRefreshCmd": "print(var_dic_list())"
    },
    "r": {
     "delete_cmd_postfix": ") ",
     "delete_cmd_prefix": "rm(",
     "library": "var_list.r",
     "varRefreshCmd": "cat(var_dic_list()) "
    }
   },
   "types_to_exclude": [
    "module",
    "function",
    "builtin_function_or_method",
    "instance",
    "_Feature"
   ],
   "window_display": false
  }
 },
 "nbformat": 4,
 "nbformat_minor": 2
}
