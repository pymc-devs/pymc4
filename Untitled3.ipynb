{
 "cells": [
  {
   "cell_type": "code",
   "execution_count": 1,
   "metadata": {},
   "outputs": [],
   "source": [
    "%load_ext autoreload\n",
    "%autoreload 2\n",
    "import time\n",
    "import pymc4 as pm\n",
    "import tensorflow as tf\n",
    "from tqdm import tqdm\n",
    "import warnings\n",
    "import seaborn as sns\n",
    "tf.get_logger().setLevel('INFO')"
   ]
  },
  {
   "cell_type": "code",
   "execution_count": 2,
   "metadata": {},
   "outputs": [],
   "source": [
    "@pm.model\n",
    "def model(shape_dim=1):\n",
    "    x = yield pm.Normal(\"mean1\", 0, tf.ones((shape_dim,)))\n",
    "    p = yield pm.Normal(\"mean2\", x, 1, observed=1.)\n",
    "    return p"
   ]
  },
  {
   "cell_type": "code",
   "execution_count": 3,
   "metadata": {},
   "outputs": [],
   "source": [
    "N = 10"
   ]
  },
  {
   "cell_type": "code",
   "execution_count": 4,
   "metadata": {
    "scrolled": true
   },
   "outputs": [
    {
     "name": "stderr",
     "output_type": "stream",
     "text": [
      " 40%|████      | 4/10 [00:47<01:09, 11.56s/it]WARNING: Logging before flag parsing goes to stderr.\n",
      "W0616 05:52:55.167898 140124376717120 def_function.py:120] 5 out of the last 5 calls to <function sample.<locals>.run_chains at 0x7f709466b950> triggered tf.function retracing. Tracing is expensive and the excessive number of tracings could be due to (1) creating @tf.function repeatedly in a loop, (2) passing tensors with different shapes, (3) passing Python objects instead of tensors. For (1), please define your @tf.function outside of the loop. For (2), @tf.function has experimental_relax_shapes=True option that relaxes argument shapes that can avoid unnecessary retracing. For (3), please refer to https://www.tensorflow.org/tutorials/customization/performance#python_or_tensor_args and https://www.tensorflow.org/api_docs/python/tf/function for  more details.\n",
      " 50%|█████     | 5/10 [01:03<01:04, 12.88s/it]W0616 05:53:04.906695 140124376717120 def_function.py:120] 6 out of the last 6 calls to <function sample.<locals>.run_chains at 0x7f70947e6ea0> triggered tf.function retracing. Tracing is expensive and the excessive number of tracings could be due to (1) creating @tf.function repeatedly in a loop, (2) passing tensors with different shapes, (3) passing Python objects instead of tensors. For (1), please define your @tf.function outside of the loop. For (2), @tf.function has experimental_relax_shapes=True option that relaxes argument shapes that can avoid unnecessary retracing. For (3), please refer to https://www.tensorflow.org/tutorials/customization/performance#python_or_tensor_args and https://www.tensorflow.org/api_docs/python/tf/function for  more details.\n",
      " 60%|██████    | 6/10 [01:12<00:47, 11.94s/it]W0616 05:55:08.106654 140124376717120 def_function.py:120] 7 out of the last 7 calls to <function sample.<locals>.run_chains at 0x7f708c3322f0> triggered tf.function retracing. Tracing is expensive and the excessive number of tracings could be due to (1) creating @tf.function repeatedly in a loop, (2) passing tensors with different shapes, (3) passing Python objects instead of tensors. For (1), please define your @tf.function outside of the loop. For (2), @tf.function has experimental_relax_shapes=True option that relaxes argument shapes that can avoid unnecessary retracing. For (3), please refer to https://www.tensorflow.org/tutorials/customization/performance#python_or_tensor_args and https://www.tensorflow.org/api_docs/python/tf/function for  more details.\n",
      " 70%|███████   | 7/10 [03:16<02:15, 45.32s/it]W0616 05:55:23.982382 140124376717120 def_function.py:120] 8 out of the last 8 calls to <function sample.<locals>.run_chains at 0x7f708c5f0c80> triggered tf.function retracing. Tracing is expensive and the excessive number of tracings could be due to (1) creating @tf.function repeatedly in a loop, (2) passing tensors with different shapes, (3) passing Python objects instead of tensors. For (1), please define your @tf.function outside of the loop. For (2), @tf.function has experimental_relax_shapes=True option that relaxes argument shapes that can avoid unnecessary retracing. For (3), please refer to https://www.tensorflow.org/tutorials/customization/performance#python_or_tensor_args and https://www.tensorflow.org/api_docs/python/tf/function for  more details.\n",
      " 80%|████████  | 8/10 [03:31<01:12, 36.48s/it]W0616 05:55:34.616366 140124376717120 def_function.py:120] 9 out of the last 9 calls to <function sample.<locals>.run_chains at 0x7f709442f598> triggered tf.function retracing. Tracing is expensive and the excessive number of tracings could be due to (1) creating @tf.function repeatedly in a loop, (2) passing tensors with different shapes, (3) passing Python objects instead of tensors. For (1), please define your @tf.function outside of the loop. For (2), @tf.function has experimental_relax_shapes=True option that relaxes argument shapes that can avoid unnecessary retracing. For (3), please refer to https://www.tensorflow.org/tutorials/customization/performance#python_or_tensor_args and https://www.tensorflow.org/api_docs/python/tf/function for  more details.\n",
      " 90%|█████████ | 9/10 [03:42<00:28, 28.73s/it]W0616 05:55:53.809887 140124376717120 def_function.py:120] 10 out of the last 10 calls to <function sample.<locals>.run_chains at 0x7f708c285c80> triggered tf.function retracing. Tracing is expensive and the excessive number of tracings could be due to (1) creating @tf.function repeatedly in a loop, (2) passing tensors with different shapes, (3) passing Python objects instead of tensors. For (1), please define your @tf.function outside of the loop. For (2), @tf.function has experimental_relax_shapes=True option that relaxes argument shapes that can avoid unnecessary retracing. For (3), please refer to https://www.tensorflow.org/tutorials/customization/performance#python_or_tensor_args and https://www.tensorflow.org/api_docs/python/tf/function for  more details.\n",
      "100%|██████████| 10/10 [04:01<00:00, 25.87s/it]\n"
     ]
    }
   ],
   "source": [
    "# warnings doesn't capture tf warnings\n",
    "noprogress_res = []\n",
    "for i in tqdm(range(N)):\n",
    "    time_ = time.time()\n",
    "    with warnings.catch_warnings():\n",
    "        warnings.simplefilter(\"ignore\")\n",
    "        trace = pm.sample(model(), progressbar=False)\n",
    "    noprogress_res.append(time.time() - time_)"
   ]
  },
  {
   "cell_type": "code",
   "execution_count": 5,
   "metadata": {},
   "outputs": [
    {
     "name": "stderr",
     "output_type": "stream",
     "text": [
      "100%|██████████| 1000/1000 [00:18<00:00, 55.09it/s]\n",
      "100%|██████████| 1000/1000 [01:04<00:00, 15.62it/s]\n",
      "100%|██████████| 1000/1000 [00:10<00:00, 92.04it/s]\n",
      "WARNING: Logging before flag parsing goes to stderr.\n",
      "W0616 05:59:34.751986 140278263838528 def_function.py:120] 5 out of the last 5 calls to <bound method DualAveragingStepSizeAdaptation.bootstrap_results of <tensorflow_probability.python.mcmc.dual_averaging_step_size_adaptation.DualAveragingStepSizeAdaptation object at 0x7f94e7f10c18>> triggered tf.function retracing. Tracing is expensive and the excessive number of tracings could be due to (1) creating @tf.function repeatedly in a loop, (2) passing tensors with different shapes, (3) passing Python objects instead of tensors. For (1), please define your @tf.function outside of the loop. For (2), @tf.function has experimental_relax_shapes=True option that relaxes argument shapes that can avoid unnecessary retracing. For (3), please refer to https://www.tensorflow.org/tutorials/customization/performance#python_or_tensor_args and https://www.tensorflow.org/api_docs/python/tf/function for  more details.\n",
      "100%|██████████| 1000/1000 [00:07<00:00, 140.62it/s]\n",
      "W0616 05:59:42.203237 140278263838528 def_function.py:120] 6 out of the last 6 calls to <bound method DualAveragingStepSizeAdaptation.bootstrap_results of <tensorflow_probability.python.mcmc.dual_averaging_step_size_adaptation.DualAveragingStepSizeAdaptation object at 0x7f94703e6e80>> triggered tf.function retracing. Tracing is expensive and the excessive number of tracings could be due to (1) creating @tf.function repeatedly in a loop, (2) passing tensors with different shapes, (3) passing Python objects instead of tensors. For (1), please define your @tf.function outside of the loop. For (2), @tf.function has experimental_relax_shapes=True option that relaxes argument shapes that can avoid unnecessary retracing. For (3), please refer to https://www.tensorflow.org/tutorials/customization/performance#python_or_tensor_args and https://www.tensorflow.org/api_docs/python/tf/function for  more details.\n",
      "100%|██████████| 1000/1000 [00:24<00:00, 40.54it/s]\n",
      "W0616 06:00:07.226820 140278263838528 def_function.py:120] 7 out of the last 7 calls to <bound method DualAveragingStepSizeAdaptation.bootstrap_results of <tensorflow_probability.python.mcmc.dual_averaging_step_size_adaptation.DualAveragingStepSizeAdaptation object at 0x7f9470050f28>> triggered tf.function retracing. Tracing is expensive and the excessive number of tracings could be due to (1) creating @tf.function repeatedly in a loop, (2) passing tensors with different shapes, (3) passing Python objects instead of tensors. For (1), please define your @tf.function outside of the loop. For (2), @tf.function has experimental_relax_shapes=True option that relaxes argument shapes that can avoid unnecessary retracing. For (3), please refer to https://www.tensorflow.org/tutorials/customization/performance#python_or_tensor_args and https://www.tensorflow.org/api_docs/python/tf/function for  more details.\n",
      "100%|██████████| 1000/1000 [00:24<00:00, 27.74it/s]\n",
      "W0616 06:00:32.393607 140278263838528 def_function.py:120] 8 out of the last 8 calls to <bound method DualAveragingStepSizeAdaptation.bootstrap_results of <tensorflow_probability.python.mcmc.dual_averaging_step_size_adaptation.DualAveragingStepSizeAdaptation object at 0x7f947054dcc0>> triggered tf.function retracing. Tracing is expensive and the excessive number of tracings could be due to (1) creating @tf.function repeatedly in a loop, (2) passing tensors with different shapes, (3) passing Python objects instead of tensors. For (1), please define your @tf.function outside of the loop. For (2), @tf.function has experimental_relax_shapes=True option that relaxes argument shapes that can avoid unnecessary retracing. For (3), please refer to https://www.tensorflow.org/tutorials/customization/performance#python_or_tensor_args and https://www.tensorflow.org/api_docs/python/tf/function for  more details.\n",
      "100%|██████████| 1000/1000 [01:12<00:00, 12.49it/s]\n",
      "W0616 06:01:45.298770 140278263838528 def_function.py:120] 9 out of the last 9 calls to <bound method DualAveragingStepSizeAdaptation.bootstrap_results of <tensorflow_probability.python.mcmc.dual_averaging_step_size_adaptation.DualAveragingStepSizeAdaptation object at 0x7f9472855400>> triggered tf.function retracing. Tracing is expensive and the excessive number of tracings could be due to (1) creating @tf.function repeatedly in a loop, (2) passing tensors with different shapes, (3) passing Python objects instead of tensors. For (1), please define your @tf.function outside of the loop. For (2), @tf.function has experimental_relax_shapes=True option that relaxes argument shapes that can avoid unnecessary retracing. For (3), please refer to https://www.tensorflow.org/tutorials/customization/performance#python_or_tensor_args and https://www.tensorflow.org/api_docs/python/tf/function for  more details.\n",
      "100%|██████████| 1000/1000 [00:34<00:00, 28.85it/s]\n",
      "W0616 06:02:20.293980 140278263838528 def_function.py:120] 10 out of the last 10 calls to <bound method DualAveragingStepSizeAdaptation.bootstrap_results of <tensorflow_probability.python.mcmc.dual_averaging_step_size_adaptation.DualAveragingStepSizeAdaptation object at 0x7f9470568a20>> triggered tf.function retracing. Tracing is expensive and the excessive number of tracings could be due to (1) creating @tf.function repeatedly in a loop, (2) passing tensors with different shapes, (3) passing Python objects instead of tensors. For (1), please define your @tf.function outside of the loop. For (2), @tf.function has experimental_relax_shapes=True option that relaxes argument shapes that can avoid unnecessary retracing. For (3), please refer to https://www.tensorflow.org/tutorials/customization/performance#python_or_tensor_args and https://www.tensorflow.org/api_docs/python/tf/function for  more details.\n",
      "100%|██████████| 1000/1000 [00:10<00:00, 94.23it/s]\n",
      "W0616 06:02:31.246305 140278263838528 def_function.py:120] 11 out of the last 11 calls to <bound method DualAveragingStepSizeAdaptation.bootstrap_results of <tensorflow_probability.python.mcmc.dual_averaging_step_size_adaptation.DualAveragingStepSizeAdaptation object at 0x7f947022d668>> triggered tf.function retracing. Tracing is expensive and the excessive number of tracings could be due to (1) creating @tf.function repeatedly in a loop, (2) passing tensors with different shapes, (3) passing Python objects instead of tensors. For (1), please define your @tf.function outside of the loop. For (2), @tf.function has experimental_relax_shapes=True option that relaxes argument shapes that can avoid unnecessary retracing. For (3), please refer to https://www.tensorflow.org/tutorials/customization/performance#python_or_tensor_args and https://www.tensorflow.org/api_docs/python/tf/function for  more details.\n",
      "100%|██████████| 1000/1000 [00:10<00:00, 93.87it/s]\n"
     ]
    }
   ],
   "source": [
    "progress_res = []\n",
    "for i in range(N):\n",
    "    time_ = time.time()\n",
    "    with warnings.catch_warnings():\n",
    "        warnings.simplefilter(\"ignore\")\n",
    "        trace = pm.sample(model(), progressbar=True)\n",
    "    progress_res.append(time.time() - time_)"
   ]
  },
  {
   "cell_type": "code",
   "execution_count": null,
   "metadata": {},
   "outputs": [],
   "source": []
  }
 ],
 "metadata": {
  "kernelspec": {
   "display_name": "Python 3",
   "language": "python",
   "name": "python3"
  },
  "language_info": {
   "codemirror_mode": {
    "name": "ipython",
    "version": 3
   },
   "file_extension": ".py",
   "mimetype": "text/x-python",
   "name": "python",
   "nbconvert_exporter": "python",
   "pygments_lexer": "ipython3",
   "version": "3.7.3"
  },
  "varInspector": {
   "cols": {
    "lenName": 16,
    "lenType": 16,
    "lenVar": 40
   },
   "kernels_config": {
    "python": {
     "delete_cmd_postfix": "",
     "delete_cmd_prefix": "del ",
     "library": "var_list.py",
     "varRefreshCmd": "print(var_dic_list())"
    },
    "r": {
     "delete_cmd_postfix": ") ",
     "delete_cmd_prefix": "rm(",
     "library": "var_list.r",
     "varRefreshCmd": "cat(var_dic_list()) "
    }
   },
   "types_to_exclude": [
    "module",
    "function",
    "builtin_function_or_method",
    "instance",
    "_Feature"
   ],
   "window_display": false
  }
 },
 "nbformat": 4,
 "nbformat_minor": 2
}
