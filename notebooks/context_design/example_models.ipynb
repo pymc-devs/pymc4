{
 "cells": [
  {
   "cell_type": "code",
   "execution_count": 1,
   "metadata": {},
   "outputs": [],
   "source": [
    "import pymc4 as pm\n",
    "import tensorflow as tf\n",
    "from tensorflow_probability import bijectors\n",
    "import numpy as np\n",
    "import matplotlib.pyplot as plt"
   ]
  },
  {
   "cell_type": "markdown",
   "metadata": {},
   "source": [
    "# Linear Regression"
   ]
  },
  {
   "cell_type": "code",
   "execution_count": 26,
   "metadata": {},
   "outputs": [],
   "source": [
    "# Logp calculation for linear regression \n",
    "@pm.model(auto_name=True)\n",
    "def linreg(n_points=100):    \n",
    "    # Define priors\n",
    "    sigma = pm.HalfNormal(sigma=1., bijector=bijectors.Identity())\n",
    "    intercept = pm.Normal(mu=0, sigma=.1)\n",
    "    x_coeff = pm.Normal(mu=0, sigma=1.)\n",
    "    x = np.linspace(-5, 5, n_points)\n",
    "    \n",
    "    # Define likelihood\n",
    "    y = pm.Normal(mu=intercept + x_coeff * x, sigma=sigma)\n",
    "    \n",
    "model = linreg.configure()\n",
    "\n",
    "forward_sample = model.forward_sample()"
   ]
  },
  {
   "cell_type": "code",
   "execution_count": 27,
   "metadata": {},
   "outputs": [
    {
     "data": {
      "text/plain": [
       "<matplotlib.collections.PathCollection at 0xb2d050f60>"
      ]
     },
     "execution_count": 27,
     "metadata": {},
     "output_type": "execute_result"
    },
    {
     "data": {
      "image/png": "[encoded data removed]",
      "text/plain": [
       "<Figure size 432x288 with 1 Axes>"
      ]
     },
     "metadata": {
      "needs_background": "light"
     },
     "output_type": "display_data"
    }
   ],
   "source": [
    "plt.scatter(np.linspace(-5, 5, 100), forward_sample['y'])"
   ]
  },
  {
   "cell_type": "code",
   "execution_count": 28,
   "metadata": {},
   "outputs": [],
   "source": [
    "log_prob = model.make_log_prob_function()"
   ]
  },
  {
   "cell_type": "code",
   "execution_count": 29,
   "metadata": {},
   "outputs": [
    {
     "data": {
      "text/plain": [
       "<tf.Tensor: id=5237, shape=(), dtype=float32, numpy=-5309.3237>"
      ]
     },
     "execution_count": 29,
     "metadata": {},
     "output_type": "execute_result"
    }
   ],
   "source": [
    "log_prob(forward_sample['sigma'], \n",
    "     forward_sample['intercept'],\n",
    "     forward_sample['x_coeff'],\n",
    "     forward_sample['y'])"
   ]
  },
  {
   "cell_type": "markdown",
   "metadata": {},
   "source": [
    "# Centered-Eight "
   ]
  },
  {
   "cell_type": "code",
   "execution_count": 22,
   "metadata": {},
   "outputs": [
    {
     "data": {
      "text/plain": [
       "{'mu': <tf.Tensor: id=4177, shape=(), dtype=float32, numpy=4.7133865>,\n",
       " 'tau': <tf.Tensor: id=4205, shape=(), dtype=float32, numpy=0.12147237>,\n",
       " 'theta': <tf.Tensor: id=4227, shape=(8,), dtype=float32, numpy=\n",
       " array([0.70645565, 0.6838048 , 0.59054464, 0.611758  , 0.81999266,\n",
       "        0.7988661 , 0.71181107, 0.65780187], dtype=float32)>,\n",
       " 'y': <tf.Tensor: id=4249, shape=(8,), dtype=float32, numpy=\n",
       " array([ 2.2448833 ,  0.22619787,  0.31986347,  0.39096758,  1.4634166 ,\n",
       "        -0.25934392,  0.18226412,  0.62499356], dtype=float32)>}"
      ]
     },
     "execution_count": 22,
     "metadata": {},
     "output_type": "execute_result"
    }
   ],
   "source": [
    "schools = np.array([28.,  8., -3.,  7., -1.,  1., 18., 12.], dtype='float32')\n",
    "sigma = np.array([15., 10., 16., 11.,  9., 11., 10., 18.], dtype='float32')\n",
    "n_points = 8\n",
    "\n",
    "@pm.model(auto_name=True)\n",
    "def centered_eight(n_points = n_points):    \n",
    "    # Define priors\n",
    "    mu = pm.Normal(mu=0, sigma=5)\n",
    "    tau = pm.HalfCauchy(beta=.1, bijector=bijectors.Identity())\n",
    "    theta = pm.Normal(mu=tf.fill([8], mu), \n",
    "                      sigma=tf.fill([8], tau))\n",
    "    \n",
    "    # Define likelihood\n",
    "    y = pm.Normal(mu=theta, sigma=theta)\n",
    "    \n",
    "model = centered_eight.configure()\n",
    "\n",
    "forward_sample = model.forward_sample()\n",
    "\n",
    "forward_sample"
   ]
  },
  {
   "cell_type": "code",
   "execution_count": 23,
   "metadata": {},
   "outputs": [
    {
     "data": {
      "text/plain": [
       "<tf.Tensor: id=4496, shape=(), dtype=float32, numpy=-5692.7417>"
      ]
     },
     "execution_count": 23,
     "metadata": {},
     "output_type": "execute_result"
    }
   ],
   "source": [
    "logp_func = model.make_log_prob_function()\n",
    "logp_func(forward_sample['mu'], forward_sample['tau'],\n",
    "          forward_sample['theta'], schools)"
   ]
  }
 ],
 "metadata": {
  "kernelspec": {
   "display_name": "Python 3",
   "language": "python",
   "name": "python3"
  },
  "language_info": {
   "codemirror_mode": {
    "name": "ipython",
    "version": 3
   },
   "file_extension": ".py",
   "mimetype": "text/x-python",
   "name": "python",
   "nbconvert_exporter": "python",
   "pygments_lexer": "ipython3",
   "version": "3.6.7"
  }
 },
 "nbformat": 4,
 "nbformat_minor": 2
}
