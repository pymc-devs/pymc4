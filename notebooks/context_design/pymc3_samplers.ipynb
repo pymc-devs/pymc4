{
 "cells": [
  {
   "cell_type": "markdown",
   "metadata": {},
   "source": [
    "# Using PyMC3 samplers on PyMC4 models"
   ]
  },
  {
   "cell_type": "code",
   "execution_count": 1,
   "metadata": {},
   "outputs": [],
   "source": [
    "%load_ext autoreload\n",
    "%autoreload 2"
   ]
  },
  {
   "cell_type": "code",
   "execution_count": 2,
   "metadata": {},
   "outputs": [],
   "source": [
    "import pymc4 as pm\n",
    "import tensorflow as tf\n",
    "import numpy as np\n",
    "import matplotlib.pyplot as plt"
   ]
  },
  {
   "cell_type": "code",
   "execution_count": 3,
   "metadata": {},
   "outputs": [],
   "source": [
    "# Create simple pymc4 model\n",
    "@pm.model(auto_name=True)\n",
    "def t_test():\n",
    "    mu = pm.Normal(0, 1)\n",
    "\n",
    "model = t_test.configure()\n",
    "\n",
    "model._forward_context.vars\n",
    "func = model.make_log_prob_function()"
   ]
  },
  {
   "cell_type": "code",
   "execution_count": 4,
   "metadata": {},
   "outputs": [],
   "source": [
    "# Create function to evaluate logp and dlogp over array of inputs\n",
    "@tf.function\n",
    "def logp_array(array):\n",
    "    #mu = array[0]\n",
    "    with tf.GradientTape() as tape:\n",
    "        tape.watch(array)\n",
    "        logp = func(array)\n",
    "    grad = tape.gradient(logp, array)\n",
    "    \n",
    "    return logp, grad"
   ]
  },
  {
   "cell_type": "code",
   "execution_count": 5,
   "metadata": {},
   "outputs": [],
   "source": [
    "# As the above function expects TF inputs and outputs, wrap it as PyMC3's samplers want numpy\n",
    "def logp_wrapper(array):\n",
    "    logp, grad = logp_array(tf.convert_to_tensor(array))\n",
    "    return logp.numpy(), grad.numpy()"
   ]
  },
  {
   "cell_type": "code",
   "execution_count": 6,
   "metadata": {},
   "outputs": [],
   "source": [
    "from pymc4.hmc import HamiltonianMC"
   ]
  },
  {
   "cell_type": "code",
   "execution_count": 7,
   "metadata": {},
   "outputs": [],
   "source": [
    "size = 1\n",
    "n_samples = 500"
   ]
  },
  {
   "cell_type": "code",
   "execution_count": 8,
   "metadata": {},
   "outputs": [],
   "source": [
    "tf.random.set_seed(123)\n",
    "np.random.seed(123)\n",
    "hmc = HamiltonianMC(logp_dlogp_func=logp_wrapper, size=size, adapt_step_size=False)\n",
    "curr = np.ones(size, dtype='float32') * .05\n",
    "posterior_samples = []\n",
    "stats = []"
   ]
  },
  {
   "cell_type": "code",
   "execution_count": 9,
   "metadata": {},
   "outputs": [
    {
     "name": "stdout",
     "output_type": "stream",
     "text": [
      "0\n",
      "0.25\n",
      "10\n",
      "2.4338525715809687\n",
      "20\n",
      "0.8835782022550135\n",
      "30\n",
      "2.1327029448576513\n",
      "40\n",
      "0.6636198591746387\n",
      "50\n",
      "0.7703623177523709\n",
      "60\n",
      "1.8082085533140866\n",
      "70\n",
      "2.016802124717785\n",
      "80\n",
      "0.6217015104339201\n",
      "90\n",
      "1.207940992513313\n",
      "100\n",
      "1.3240099603905968\n",
      "110\n",
      "1.346048853571611\n",
      "120\n",
      "1.4427577775129503\n",
      "130\n",
      "0.8565491707334623\n",
      "140\n",
      "0.9624691955794613\n",
      "150\n",
      "2.4720718932582906\n",
      "160\n",
      "1.5805445755750056\n",
      "170\n",
      "2.1380879550318665\n",
      "180\n",
      "1.420551901927288\n",
      "190\n",
      "1.772666882095104\n",
      "200\n",
      "1.4909935183397898\n",
      "210\n",
      "0.9564664645510188\n",
      "220\n",
      "1.0094633430712847\n",
      "230\n",
      "0.9415898885107509\n",
      "240\n",
      "0.9789093380505235\n",
      "250\n",
      "1.006542783540078\n",
      "260\n",
      "0.9103849564026153\n",
      "270\n",
      "1.55622156748228\n",
      "280\n",
      "3.088911988511081\n",
      "290\n",
      "1.4383936543460296\n",
      "300\n",
      "1.1121804701838218\n",
      "310\n",
      "1.424086887611018\n",
      "320\n",
      "2.20499869286127\n",
      "330\n",
      "1.519518011454376\n",
      "340\n",
      "1.3419589165701242\n",
      "350\n",
      "1.9586890867688238\n",
      "360\n",
      "1.6645487485996129\n",
      "370\n",
      "0.9915868782338413\n",
      "380\n",
      "1.0335682127160022\n",
      "390\n",
      "2.580381765734188\n",
      "400\n",
      "0.8539483762542414\n",
      "410\n",
      "1.6204564049940595\n",
      "420\n",
      "1.7482972684183884\n",
      "430\n",
      "1.0932177164504921\n",
      "440\n",
      "1.1029667164138135\n",
      "450\n",
      "1.2918166766210588\n",
      "460\n",
      "1.2928383047613468\n",
      "470\n",
      "1.6941335213881863\n",
      "480\n",
      "2.3599326552982838\n",
      "490\n",
      "1.3764049670244904\n"
     ]
    }
   ],
   "source": [
    "# %%time  # NB: uncommenting cell magic %%time will prevent variable from escaping local cell scope\n",
    "\n",
    "for i in range(n_samples):\n",
    "    curr, stat = hmc.step(curr)\n",
    "    posterior_samples.append(curr)\n",
    "    stats.append(stat)\n",
    "    if i % 10 == 0:\n",
    "        print(i)\n",
    "        print(hmc.step_size)\n",
    "    \n",
    "trace = np.array(posterior_samples)"
   ]
  },
  {
   "cell_type": "markdown",
   "metadata": {},
   "source": [
    "Compare with `PyMC3`"
   ]
  },
  {
   "cell_type": "code",
   "execution_count": 10,
   "metadata": {},
   "outputs": [
    {
     "name": "stderr",
     "output_type": "stream",
     "text": [
      "WARNING: Logging before flag parsing goes to stderr.\n",
      "W0414 17:16:25.698212 140348081661760 configdefaults.py:1458] install mkl with `conda install mkl-service`: No module named 'mkl'\n"
     ]
    }
   ],
   "source": [
    "import pymc3 as pm3"
   ]
  },
  {
   "cell_type": "code",
   "execution_count": 11,
   "metadata": {},
   "outputs": [],
   "source": [
    "with pm3.Model() as model3:\n",
    "    pm3.Normal('x', 0, 1)"
   ]
  },
  {
   "cell_type": "code",
   "execution_count": 12,
   "metadata": {},
   "outputs": [],
   "source": [
    "np.random.seed(123)\n",
    "with model3:\n",
    "    hmc3 = pm3.HamiltonianMC(adapt_step_size=True)\n",
    "    \n",
    "point = {'x': np.array(.05)}\n",
    "trace3 = []"
   ]
  },
  {
   "cell_type": "code",
   "execution_count": 13,
   "metadata": {},
   "outputs": [
    {
     "name": "stdout",
     "output_type": "stream",
     "text": [
      "0\n",
      "0.25\n",
      "10\n",
      "2.4338363922634105\n",
      "20\n",
      "0.8835295148661158\n",
      "30\n",
      "2.132369805866789\n",
      "40\n",
      "0.6638539397446028\n",
      "50\n",
      "0.7700032438774976\n",
      "60\n",
      "1.8083500351406778\n",
      "70\n",
      "2.01549699366806\n",
      "80\n",
      "0.620051066822726\n",
      "90\n",
      "1.2394151791390735\n",
      "100\n",
      "1.326608190951551\n",
      "110\n",
      "1.3458859508747132\n",
      "120\n",
      "1.4535020800208394\n",
      "130\n",
      "0.8470025039761001\n",
      "140\n",
      "0.9616054472149861\n",
      "150\n",
      "2.4700446424546842\n",
      "160\n",
      "1.579485048302955\n",
      "170\n",
      "2.126076524692899\n",
      "180\n",
      "1.4263912419505649\n",
      "190\n",
      "1.778245696911592\n",
      "200\n",
      "1.4859097351789183\n",
      "210\n",
      "0.9546259420166145\n",
      "220\n",
      "1.0072250233799054\n",
      "230\n",
      "0.9409202999644469\n",
      "240\n",
      "0.9783484856905771\n",
      "250\n",
      "1.0058739854796497\n",
      "260\n",
      "0.9099078292987351\n",
      "270\n",
      "1.5554539165456562\n",
      "280\n",
      "3.088081197599752\n",
      "290\n",
      "1.4375634311726395\n",
      "300\n",
      "1.1117815200764143\n",
      "310\n",
      "1.4225316718871723\n",
      "320\n",
      "2.2024230776071763\n",
      "330\n",
      "1.5205261622590753\n",
      "340\n",
      "1.3428281946994207\n",
      "350\n",
      "1.9597477496000024\n",
      "360\n",
      "1.665457343355618\n",
      "370\n",
      "0.9921134467269729\n",
      "380\n",
      "1.034038006686061\n",
      "390\n",
      "2.5815148520987616\n",
      "400\n",
      "0.8542902108760975\n",
      "410\n",
      "1.621225265014004\n",
      "420\n",
      "1.749029446162765\n",
      "430\n",
      "1.0936219616260738\n",
      "440\n",
      "1.103351819226634\n",
      "450\n",
      "1.2922387373823943\n",
      "460\n",
      "1.2931970508606732\n",
      "470\n",
      "1.6945914178093304\n",
      "480\n",
      "2.360210326424694\n",
      "490\n",
      "1.3767503315591088\n",
      "CPU times: user 152 ms, sys: 219 µs, total: 152 ms\n",
      "Wall time: 147 ms\n"
     ]
    }
   ],
   "source": [
    "%%time\n",
    "\n",
    "for i in range(n_samples):\n",
    "    point, _ = hmc3.step(point)\n",
    "    trace3.append(point['x'])\n",
    "    if i % 10 == 0:\n",
    "        print(i)\n",
    "        print(hmc3.step_size)"
   ]
  },
  {
   "cell_type": "code",
   "execution_count": 14,
   "metadata": {},
   "outputs": [
    {
     "data": {
      "text/plain": [
       "<matplotlib.axes._subplots.AxesSubplot at 0x7fa496578b70>"
      ]
     },
     "execution_count": 14,
     "metadata": {},
     "output_type": "execute_result"
    },
    {
     "data": {
      "image/png": "[encoded data removed]",
      "text/plain": [
       "<Figure size 432x288 with 1 Axes>"
      ]
     },
     "metadata": {
      "needs_background": "light"
     },
     "output_type": "display_data"
    }
   ],
   "source": [
    "import seaborn as sns\n",
    "sns.distplot(trace)\n",
    "sns.distplot(trace3)"
   ]
  },
  {
   "cell_type": "markdown",
   "metadata": {},
   "source": [
    "There still seems to be a problem here where in the PyMC4 implementation, the step_size keeps getting smaller and smaller, causing the sampler to take very long. Haven't figured it out yet."
   ]
  },
  {
   "cell_type": "code",
   "execution_count": 15,
   "metadata": {},
   "outputs": [
    {
     "data": {
      "text/plain": [
       "1.7264840418426366"
      ]
     },
     "execution_count": 15,
     "metadata": {},
     "output_type": "execute_result"
    }
   ],
   "source": [
    "hmc.step_size"
   ]
  },
  {
   "cell_type": "code",
   "execution_count": 16,
   "metadata": {},
   "outputs": [
    {
     "data": {
      "text/plain": [
       "1.7268868356485505"
      ]
     },
     "execution_count": 16,
     "metadata": {},
     "output_type": "execute_result"
    }
   ],
   "source": [
    "hmc3.step_size"
   ]
  },
  {
   "cell_type": "code",
   "execution_count": 17,
   "metadata": {},
   "outputs": [
    {
     "data": {
      "text/plain": [
       "array([0.97779363])"
      ]
     },
     "execution_count": 17,
     "metadata": {},
     "output_type": "execute_result"
    }
   ],
   "source": [
    "hmc.potential._stds"
   ]
  },
  {
   "cell_type": "code",
   "execution_count": 18,
   "metadata": {},
   "outputs": [
    {
     "data": {
      "text/plain": [
       "array([0.97756585])"
      ]
     },
     "execution_count": 18,
     "metadata": {},
     "output_type": "execute_result"
    }
   ],
   "source": [
    "hmc3.potential._stds"
   ]
  }
 ],
 "metadata": {
  "kernelspec": {
   "display_name": "Python 3",
   "language": "python",
   "name": "python3"
  },
  "language_info": {
   "codemirror_mode": {
    "name": "ipython",
    "version": 3
   },
   "file_extension": ".py",
   "mimetype": "text/x-python",
   "name": "python",
   "nbconvert_exporter": "python",
   "pygments_lexer": "ipython3",
   "version": "3.7.3"
  }
 },
 "nbformat": 4,
 "nbformat_minor": 2
}
