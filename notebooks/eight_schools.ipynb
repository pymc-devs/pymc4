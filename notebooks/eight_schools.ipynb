{
 "cells": [
  {
   "cell_type": "code",
   "execution_count": 1,
   "metadata": {},
   "outputs": [],
   "source": [
    "import warnings\n",
    "warnings.filterwarnings(\"ignore\")\n",
    "import pymc4 as pm4\n",
    "import tensorflow as tf\n",
    "from tensorflow_probability import distributions as tfd\n",
    "import numpy as np\n",
    "import arviz as az"
   ]
  },
  {
   "cell_type": "markdown",
   "metadata": {},
   "source": [
    "```\n",
    "Original Stan model\n",
    "data {\n",
    "  int<lower=0> J; // number of schools\n",
    "  real y[J]; // estimated treatment effects\n",
    "  real<lower=0> sigma[J]; // s.e. of effect estimates\n",
    "}\n",
    "parameters {\n",
    "  real mu;\n",
    "  real<lower=0> tau;\n",
    "  real eta[J];\n",
    "}\n",
    "transformed parameters {\n",
    "  real theta[J];\n",
    "  for (j in 1:J)\n",
    "    theta[j] <- mu + tau * eta[j];\n",
    "}\n",
    "model {\n",
    "  eta ~ normal(0, 1);\n",
    "  y ~ normal(theta, sigma);\n",
    "}\n",
    "```"
   ]
  },
  {
   "cell_type": "code",
   "execution_count": 2,
   "metadata": {},
   "outputs": [],
   "source": [
    "J = 8\n",
    "y = np.array([28,  8, -3,  7, -1,  1, 18, 12], dtype=np.float32)\n",
    "sigma = np.array([15, 10, 16, 11,  9, 11, 10, 18], dtype=np.float32)"
   ]
  },
  {
   "cell_type": "code",
   "execution_count": 3,
   "metadata": {},
   "outputs": [],
   "source": [
    "@pm4.model\n",
    "def schools_pm4():\n",
    "    #eta = yield pm4.Normal(\"eta\", 0, 1, plate=J)\n",
    "    \n",
    "    # Unfortunately these have to be scalar tensors, maybe default to plate=1?\n",
    "    eta = yield pm4.Normal(\"eta\", tf.zeros(J), tf.ones(J))\n",
    "    mu = yield pm4.Normal(\"mu\", tf.zeros(1), tf.ones(1))\n",
    "    tau = yield pm4.HalfNormal('tau', tf.ones(1) * 2.)\n",
    "\n",
    "    theta = mu + tau * eta\n",
    "\n",
    "    obs = yield pm4.Normal('obs', theta, scale=sigma, observed=y)"
   ]
  },
  {
   "cell_type": "code",
   "execution_count": 4,
   "metadata": {},
   "outputs": [],
   "source": [
    "@pm4.model\n",
    "def schools_pm4():\n",
    "    eta = yield pm4.Normal(\"eta\", 0, 1, plate=J)\n",
    "    mu = yield pm4.Normal(\"mu\", 0, 1, plate=1)\n",
    "    tau = yield pm4.HalfNormal('tau', 2., plate=1)\n",
    "    \n",
    "    theta = mu + tau * eta\n",
    "\n",
    "    obs = yield pm4.Normal('obs', theta, scale=sigma, observed=y)"
   ]
  },
  {
   "cell_type": "code",
   "execution_count": 5,
   "metadata": {},
   "outputs": [
    {
     "name": "stdout",
     "output_type": "stream",
     "text": [
      "CPU times: user 9.52 s, sys: 766 ms, total: 10.3 s\n",
      "Wall time: 8.1 s\n"
     ]
    }
   ],
   "source": [
    "%%time\n",
    "tf_trace = pm4.inference.sampling.sample(schools_pm4(), \n",
    "                                         step_size=.28,\n",
    "                                         num_chains=5, \n",
    "                                         num_samples=100,\n",
    "                                         xla=False)"
   ]
  },
  {
   "cell_type": "code",
   "execution_count": 6,
   "metadata": {},
   "outputs": [
    {
     "name": "stdout",
     "output_type": "stream",
     "text": [
      "CPU times: user 10.1 s, sys: 887 ms, total: 10.9 s\n",
      "Wall time: 7.82 s\n"
     ]
    }
   ],
   "source": [
    "%%time\n",
    "tf_trace = pm4.inference.sampling.sample(schools_pm4(), \n",
    "                                         step_size=.28,\n",
    "                                         num_chains=50, \n",
    "                                         num_samples=100,\n",
    "                                         xla=False)"
   ]
  },
  {
   "cell_type": "markdown",
   "metadata": {},
   "source": [
    "TODO: Make work with XLA"
   ]
  },
  {
   "cell_type": "code",
   "execution_count": 7,
   "metadata": {},
   "outputs": [
    {
     "name": "stdout",
     "output_type": "stream",
     "text": [
      "CPU times: user 16.7 s, sys: 207 ms, total: 16.9 s\n",
      "Wall time: 17.1 s\n"
     ]
    }
   ],
   "source": [
    "%%time\n",
    "tf_trace = pm4.inference.sampling.sample(schools_pm4(), \n",
    "                                         step_size=.28,\n",
    "                                         num_chains=50, \n",
    "                                         num_samples=100,\n",
    "                                         xla=True)"
   ]
  },
  {
   "cell_type": "code",
   "execution_count": null,
   "metadata": {},
   "outputs": [],
   "source": [
    "import arviz as az"
   ]
  },
  {
   "cell_type": "code",
   "execution_count": null,
   "metadata": {},
   "outputs": [],
   "source": [
    "tf_trace[1].numpy().shape"
   ]
  },
  {
   "cell_type": "code",
   "execution_count": null,
   "metadata": {},
   "outputs": [],
   "source": [
    "tf_trace[0].numpy().shape"
   ]
  },
  {
   "cell_type": "code",
   "execution_count": null,
   "metadata": {},
   "outputs": [],
   "source": [
    "# TODO: Order changes for different runs, should fix order\n",
    "trace_tfp = az.from_dict({'eta': np.swapaxes(tf_trace[1].numpy(), 1, 0),\n",
    "                          'mu':  tf_trace[0].numpy()[..., 0].T,\n",
    "                          'tau': tf_trace[2].numpy()[..., 0].T})"
   ]
  },
  {
   "cell_type": "code",
   "execution_count": null,
   "metadata": {},
   "outputs": [],
   "source": [
    "trace_tfp.posterior.eta"
   ]
  },
  {
   "cell_type": "code",
   "execution_count": null,
   "metadata": {},
   "outputs": [],
   "source": [
    "az.plot_trace(trace_tfp);"
   ]
  },
  {
   "cell_type": "markdown",
   "metadata": {},
   "source": [
    "## Using python NUTS sampler"
   ]
  },
  {
   "cell_type": "code",
   "execution_count": null,
   "metadata": {},
   "outputs": [],
   "source": [
    "from pymc4 import hmc"
   ]
  },
  {
   "cell_type": "code",
   "execution_count": null,
   "metadata": {},
   "outputs": [],
   "source": [
    "model = schools_pm4()\n",
    "logp_func, tensors = pm4.inference.sampling.build_logp_function(model)"
   ]
  },
  {
   "cell_type": "code",
   "execution_count": null,
   "metadata": {},
   "outputs": [],
   "source": [
    "def logp_array(input_tensors):\n",
    "    t1, t2, t3 = input_tensors[:8], input_tensors[8], input_tensors[9]\n",
    "    tensors = [t1, t2, t3]\n",
    "    with tf.GradientTape() as tape:\n",
    "        tape.watch(tensors)\n",
    "        logp = logp_func(*[tensors])\n",
    "    grad = tape.gradient(logp, tensors)\n",
    "\n",
    "    return logp, grad\n",
    "\n",
    "# As the above function expects TF inputs and outputs, wrap it as PyMC3's samplers want numpy\n",
    "def logp_wrapper(arr):\n",
    "    #logp, grad = logp_array([tf.convert_to_tensor(arr) for arr in arrs])\n",
    "    logp, grad = logp_array(tf.convert_to_tensor(arr))\n",
    "    grad = np.concatenate([np.atleast_1d(l.numpy()) for l in grad])\n",
    "    return logp, grad#,.numpy(), grad.numpy()"
   ]
  },
  {
   "cell_type": "code",
   "execution_count": null,
   "metadata": {},
   "outputs": [],
   "source": [
    "size = 10\n",
    "n_samples = 500\n",
    "\n",
    "sampler = hmc.NUTS(logp_dlogp_func=logp_wrapper, \n",
    "                   size=size, \n",
    "                   dtype=np.float32)\n",
    "\n",
    "curr = np.ones(size, dtype='float32') * .05\n",
    "posterior_samples = []\n",
    "stats = []"
   ]
  },
  {
   "cell_type": "code",
   "execution_count": null,
   "metadata": {},
   "outputs": [],
   "source": [
    "%%time\n",
    "for i in range(n_samples):\n",
    "    curr, stat = sampler.step(curr)\n",
    "    posterior_samples.append(curr)\n",
    "    stats.append(stat)\n",
    "    if i % 20 == 0:\n",
    "        print(i)\n",
    "    \n",
    "trace = np.array(posterior_samples)"
   ]
  },
  {
   "cell_type": "code",
   "execution_count": null,
   "metadata": {},
   "outputs": [],
   "source": [
    "trace_python = az.from_dict({'eta': trace[:, :8].T[..., np.newaxis].T, \n",
    "                             'mu':  trace[:, 8, np.newaxis].T, \n",
    "                             'tau': trace[:, 9, np.newaxis].T})"
   ]
  },
  {
   "cell_type": "code",
   "execution_count": null,
   "metadata": {},
   "outputs": [],
   "source": [
    "az.plot_trace(trace_python);"
   ]
  }
 ],
 "metadata": {
  "kernelspec": {
   "display_name": "Python 3",
   "language": "python",
   "name": "python3"
  },
  "language_info": {
   "codemirror_mode": {
    "name": "ipython",
    "version": 3
   },
   "file_extension": ".py",
   "mimetype": "text/x-python",
   "name": "python",
   "nbconvert_exporter": "python",
   "pygments_lexer": "ipython3",
   "version": "3.7.3"
  }
 },
 "nbformat": 4,
 "nbformat_minor": 4
}
