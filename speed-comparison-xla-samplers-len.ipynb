{
 "cells": [
  {
   "cell_type": "code",
   "execution_count": 1,
   "metadata": {},
   "outputs": [],
   "source": [
    "%load_ext autoreload\n",
    "%autoreload 2\n",
    "import pymc4 as pm\n",
    "import arviz as az\n",
    "import tensorflow as tf\n",
    "import tensorflow_probability as tfp\n",
    "tfd = tfp.distributions"
   ]
  },
  {
   "cell_type": "markdown",
   "metadata": {},
   "source": [
    "## no-XLA"
   ]
  },
  {
   "cell_type": "code",
   "execution_count": 2,
   "metadata": {},
   "outputs": [],
   "source": [
    "@pm.model\n",
    "def categorical1():\n",
    "    var1 = yield pm.Categorical(\"var1\", probs=[0.2, 0.4, 0.4])\n",
    "    var1 = yield pm.Categorical(\"var2\", probs=[0.1, 0.3, 0.2, 0.2, 0.2])\n",
    "    var1 = yield pm.Categorical(\"var3\", probs=[0.1, 0.1, 0.1, 0.1, 0.1, 0.5])"
   ]
  },
  {
   "cell_type": "code",
   "execution_count": 3,
   "metadata": {},
   "outputs": [
    {
     "name": "stderr",
     "output_type": "stream",
     "text": [
      "Working with Compound step\n",
      " -- randomwalkm[vars=['var1'], proposal_function=categorical_uniform_fn]\n",
      " -- randomwalkm[vars=['var2'], proposal_function=categorical_uniform_fn]\n",
      " -- randomwalkm[vars=['var3'], proposal_function=categorical_uniform_fn]\n"
     ]
    },
    {
     "name": "stdout",
     "output_type": "stream",
     "text": [
      "CPU times: user 13.5 s, sys: 410 ms, total: 13.9 s\n",
      "Wall time: 12.9 s\n"
     ]
    }
   ],
   "source": [
    "%%time\n",
    "trace = pm.sample(categorical1(), sampler_type=\"compound\")"
   ]
  },
  {
   "cell_type": "code",
   "execution_count": 4,
   "metadata": {},
   "outputs": [],
   "source": [
    "@pm.model\n",
    "def categorical2():\n",
    "    var1 = yield pm.Categorical(\"var1\", probs=[0.2, 0.4, 0.4])\n",
    "    var1 = yield pm.Categorical(\"var2\", probs=[0.1, 0.3, 0.2])\n",
    "    var1 = yield pm.Categorical(\"var3\", probs=[0.1, 0.1, 0.1])"
   ]
  },
  {
   "cell_type": "code",
   "execution_count": 5,
   "metadata": {},
   "outputs": [
    {
     "name": "stderr",
     "output_type": "stream",
     "text": [
      "Working with Compound step\n",
      " -- randomwalkm[vars=['var1', 'var2', 'var3'], proposal_function=categorical_uniform_fn]\n"
     ]
    },
    {
     "name": "stdout",
     "output_type": "stream",
     "text": [
      "CPU times: user 4.24 s, sys: 64.1 ms, total: 4.31 s\n",
      "Wall time: 3.9 s\n"
     ]
    }
   ],
   "source": [
    "%%time\n",
    "trace = pm.sample(categorical2(), sampler_type=\"compound\")"
   ]
  },
  {
   "cell_type": "markdown",
   "metadata": {},
   "source": [
    "## XLA"
   ]
  },
  {
   "cell_type": "code",
   "execution_count": 6,
   "metadata": {},
   "outputs": [
    {
     "name": "stderr",
     "output_type": "stream",
     "text": [
      "Working with Compound step\n",
      " -- randomwalkm[vars=['var1'], proposal_function=categorical_uniform_fn]\n",
      " -- randomwalkm[vars=['var2'], proposal_function=categorical_uniform_fn]\n",
      " -- randomwalkm[vars=['var3'], proposal_function=categorical_uniform_fn]\n"
     ]
    },
    {
     "name": "stdout",
     "output_type": "stream",
     "text": [
      "CPU times: user 16.5 s, sys: 96.5 ms, total: 16.6 s\n",
      "Wall time: 16.8 s\n"
     ]
    }
   ],
   "source": [
    "%%time\n",
    "trace = pm.sample(categorical1(), sampler_type=\"compound\", xla=True)"
   ]
  },
  {
   "cell_type": "code",
   "execution_count": 7,
   "metadata": {},
   "outputs": [
    {
     "name": "stderr",
     "output_type": "stream",
     "text": [
      "Working with Compound step\n",
      " -- randomwalkm[vars=['var1', 'var2', 'var3'], proposal_function=categorical_uniform_fn]\n"
     ]
    },
    {
     "name": "stdout",
     "output_type": "stream",
     "text": [
      "CPU times: user 6.94 s, sys: 32 ms, total: 6.97 s\n",
      "Wall time: 6.97 s\n"
     ]
    }
   ],
   "source": [
    "%%time\n",
    "trace = pm.sample(categorical2(), sampler_type=\"compound\", xla=True)"
   ]
  }
 ],
 "metadata": {
  "kernelspec": {
   "display_name": "Python 3",
   "language": "python",
   "name": "python3"
  },
  "language_info": {
   "codemirror_mode": {
    "name": "ipython",
    "version": 3
   },
   "file_extension": ".py",
   "mimetype": "text/x-python",
   "name": "python",
   "nbconvert_exporter": "python",
   "pygments_lexer": "ipython3",
   "version": "3.7.3"
  },
  "varInspector": {
   "cols": {
    "lenName": 16,
    "lenType": 16,
    "lenVar": 40
   },
   "kernels_config": {
    "python": {
     "delete_cmd_postfix": "",
     "delete_cmd_prefix": "del ",
     "library": "var_list.py",
     "varRefreshCmd": "print(var_dic_list())"
    },
    "r": {
     "delete_cmd_postfix": ") ",
     "delete_cmd_prefix": "rm(",
     "library": "var_list.r",
     "varRefreshCmd": "cat(var_dic_list()) "
    }
   },
   "types_to_exclude": [
    "module",
    "function",
    "builtin_function_or_method",
    "instance",
    "_Feature"
   ],
   "window_display": false
  }
 },
 "nbformat": 4,
 "nbformat_minor": 2
}
